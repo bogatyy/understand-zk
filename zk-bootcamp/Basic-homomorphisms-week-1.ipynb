{
 "cells": [
  {
   "cell_type": "markdown",
   "id": "2fda7503",
   "metadata": {},
   "source": [
    "# RareSkills Zero Knowledge Week 1\n",
    "\n",
    "\n",
    "## Modular arithmetic essentials\n",
    "### Benchmarks\n",
    "Here is how you do modular arithmetic in python. Run the two cells below and note how different their execution times are. You should use `pow` instead of doing modular arithmetic with the elementary operators."
   ]
  },
  {
   "cell_type": "code",
   "execution_count": 11,
   "id": "6462ce3c",
   "metadata": {},
   "outputs": [
    {
     "name": "stdout",
     "output_type": "stream",
     "text": [
      "calculating 1590868 took 3.25 seconds\n"
     ]
    }
   ],
   "source": [
    "import time\n",
    "\n",
    "s = time.time()\n",
    "ans = 1002583 ** 939001 % 2003951\n",
    "t = time.time()\n",
    "\n",
    "print(\"calculating {} took {:.2f} seconds\".format(ans, t - s))"
   ]
  },
  {
   "cell_type": "code",
   "execution_count": 2,
   "id": "4d6986d8",
   "metadata": {},
   "outputs": [
    {
     "name": "stdout",
     "output_type": "stream",
     "text": [
      "calculating 1590868 operation took 0.00 seconds\n"
     ]
    }
   ],
   "source": [
    "s = time.time()\n",
    "ans = pow(1002583,939001,2003951)\n",
    "t = time.time()\n",
    "\n",
    "print(\"calculating {} operation took {:.2f} seconds\".format(ans, t - s))"
   ]
  },
  {
   "cell_type": "markdown",
   "id": "78efe55b",
   "metadata": {},
   "source": [
    "### Encrypting a number\n",
    "\n",
    "If we start with a generator `g` and raise it to a power `s` mod `n`, then in general we cannot determine `s` even if `g` and `n` are known. This is the discrete logarithm problem.\n",
    "\n",
    "We can say we \"encrypt\" `s` using the scheme\n",
    "\n",
    "$$ E(s) = g^{s} \\pmod n $$\n",
    "\n",
    "But this means we need to choose `g` and `n` carefully. If `g` is 3, `s` is 2, and `n` is a large number, we can intelligently guess what `s` is in this case. We want to pick `g` and `n` such that all members \"wrap around.\" We won't concern ourselves with this here, but you should be aware of it. The other issue is not picking a sufficiently large `n`. "
   ]
  },
  {
   "cell_type": "markdown",
   "id": "583b81c1",
   "metadata": {},
   "source": [
    "### Computing the discrete logarithm\n",
    "If we do `s_p = g^s mod n`, and make `g` and `n` public, then it is infeasible to compute `s`. But this is only true if `n` is sufficiently large.\n",
    "\n",
    "In the following example, we provide `s_p`, `g`, and `n`. Use python to bruteforce the solution to find `s`."
   ]
  },
  {
   "cell_type": "markdown",
   "id": "bc033ace",
   "metadata": {},
   "source": [
    "$$g^{ac} = (g^{a})^{c} \\pmod p$$"
   ]
  },
  {
   "cell_type": "code",
   "execution_count": 8,
   "id": "cb7eb435",
   "metadata": {},
   "outputs": [],
   "source": [
    "n = 9551\n",
    "g = 5\n",
    "encrypted_number = 5666"
   ]
  },
  {
   "cell_type": "markdown",
   "id": "5dfd12b4",
   "metadata": {},
   "source": [
    "<font color='red'>**Assignment 1: Use python to bruteforce the solution to find `s`**</font>"
   ]
  },
  {
   "cell_type": "code",
   "execution_count": 9,
   "id": "d397aa7e",
   "metadata": {},
   "outputs": [
    {
     "name": "stdout",
     "output_type": "stream",
     "text": [
      "Decrypted number 2531 check 5666 == 5666\n"
     ]
    }
   ],
   "source": [
    "# Your Solution and Answer Here\n",
    "student_solution = 0\n",
    "for s in range(n):\n",
    "    if pow(g, s, n) == encrypted_number:\n",
    "        student_solution = s\n",
    "        break\n",
    "print ('Decrypted number', student_solution, 'check', encrypted_number, '==', pow(g, student_solution, n))"
   ]
  },
  {
   "cell_type": "code",
   "execution_count": 10,
   "id": "8fb84b98",
   "metadata": {},
   "outputs": [
    {
     "name": "stdout",
     "output_type": "stream",
     "text": [
      "student_solution is 2531\n"
     ]
    }
   ],
   "source": [
    "assert pow(g, student_solution, n) == encrypted_number\n",
    "print(\"student_solution is {}\".format(student_solution))"
   ]
  },
  {
   "cell_type": "markdown",
   "id": "adef384e",
   "metadata": {},
   "source": [
    "### Computing the discrete logarithm the smart way\n",
    "The smart way to do optimal algorithms is to [copy and paste from stackoverflow](https://stackoverflow.com/a/58665206/2079806). You do not have to understand how the library works\n",
    "\n",
    "<font color='red'>**Assignment 2: Break the cryptography below and obtain the secret number**</font>"
   ]
  },
  {
   "cell_type": "code",
   "execution_count": 11,
   "id": "d15cb7d8",
   "metadata": {},
   "outputs": [],
   "source": [
    "n = 1000004119\n",
    "g = 5\n",
    "encrypted_number = 767805982"
   ]
  },
  {
   "cell_type": "code",
   "execution_count": 12,
   "id": "62cdb28d",
   "metadata": {},
   "outputs": [],
   "source": [
    "# Your Solution and Answer Here\n",
    "from sympy.ntheory import discrete_log\n",
    "\n",
    "student_solution = discrete_log(n, encrypted_number, g)"
   ]
  },
  {
   "cell_type": "code",
   "execution_count": 13,
   "id": "b042bddd",
   "metadata": {},
   "outputs": [
    {
     "name": "stdout",
     "output_type": "stream",
     "text": [
      "student_solution is 420\n"
     ]
    }
   ],
   "source": [
    "assert pow(g, student_solution, n) == encrypted_number\n",
    "print(\"student_solution is {}\".format(student_solution))"
   ]
  },
  {
   "cell_type": "markdown",
   "id": "f6211e5b",
   "metadata": {},
   "source": [
    "## How Zero Knowledge Addition Works\n",
    "\n",
    "A Zero Knowledge Proof verifies a computation is true without revealing a the inputs to the computation.\n",
    "\n",
    "That is, if a + b = c, then we want a \"trapdoor function\" E(x) such that E(a)■E(b) = E(c) where ■ is the binary operator of the group E(x) is an element of.\n",
    "\n",
    "So to prove a + b = c without revealing a, b, or c, we apply A = E(a), B = E(b), C = E(c) and give (A, B, C) to a verifier.\n",
    "\n",
    "The verifier will then check A ■ B == C.\n",
    "\n",
    "Although they don't know the values A, B, and C \"came from\", they do know the unencrypted values form a valid sum."
   ]
  },
  {
   "cell_type": "markdown",
   "id": "89ac98bb",
   "metadata": {},
   "source": [
    "## Zero Knowledge Addition\n",
    "The following property is very important. It lets us verify the addition of numbers (integers under addition) using another group: $g^x \\pmod p$ under multiplication. Because of the discrete logarithm, we cannot easily go from $g^x \\pmod p$ to recover x.\n",
    "\n",
    "a + b = c is homomorphic to $g^ag^b = g^c \\pmod p$.\n",
    "\n",
    "$$ g^{a}g^{b} = g^{a + b} \\pmod n $$\n",
    "\n",
    "Try a few different values of `a` and `b` yourself to see it in action"
   ]
  },
  {
   "cell_type": "code",
   "execution_count": 20,
   "id": "f8869242",
   "metadata": {},
   "outputs": [
    {
     "name": "stdout",
     "output_type": "stream",
     "text": [
      "False\n",
      "False\n",
      "False\n",
      "False\n",
      "False\n",
      "False\n",
      "False\n",
      "False\n",
      "False\n",
      "False\n"
     ]
    }
   ],
   "source": [
    "import random\n",
    "for i in range(10):\n",
    "    g = random.randint(0, n)\n",
    "    a = random.randint(0, n)\n",
    "    b = random.randint(0, n)\n",
    "    print(pow(g, a, n) * pow(g, b, n) == pow(g, a + b, n))"
   ]
  },
  {
   "cell_type": "markdown",
   "id": "0545ba6d",
   "metadata": {},
   "source": [
    "Wait what?! That's supposed to be true?\n",
    "\n",
    "<font color='red'>**Assignment 3: The code above has a bug. What is the bug?**</font>"
   ]
  },
  {
   "cell_type": "code",
   "execution_count": 21,
   "id": "bbacb1ae",
   "metadata": {},
   "outputs": [
    {
     "name": "stdout",
     "output_type": "stream",
     "text": [
      "True\n",
      "True\n",
      "True\n",
      "True\n",
      "True\n",
      "True\n",
      "True\n",
      "True\n",
      "True\n",
      "True\n"
     ]
    }
   ],
   "source": [
    "# gotta do MOD N after multiplication!\n",
    "import random\n",
    "for i in range(10):\n",
    "    g = random.randint(0, n)\n",
    "    a = random.randint(0, n)\n",
    "    b = random.randint(0, n)\n",
    "    print(pow(g, a, n) * pow(g, b, n) % n == pow(g, a + b, n))"
   ]
  },
  {
   "cell_type": "markdown",
   "id": "3063b383",
   "metadata": {},
   "source": [
    "## Zero Knowledge Subtraction\n",
    "We can also encrypt the operation a - b. This is the same as \n",
    "\n",
    "$$ g^{a}g^{-b} = g^{a-b} $$\n",
    "\n",
    "But we can't just stick a negative sign in front of the exponent"
   ]
  },
  {
   "cell_type": "code",
   "execution_count": 22,
   "id": "10c8172d",
   "metadata": {},
   "outputs": [
    {
     "data": {
      "text/plain": [
       "1.6619797259514097e-09"
      ]
     },
     "execution_count": 22,
     "metadata": {},
     "output_type": "execute_result"
    }
   ],
   "source": [
    "g = 57\n",
    "n = 101\n",
    "g ** -5 % n"
   ]
  },
  {
   "cell_type": "markdown",
   "id": "80d0eb92",
   "metadata": {},
   "source": [
    "The above is not an integer! However, python is smart enough to know what you are doing if you use `pow`. To test this, we expect\n",
    "\n",
    "$$ g^{-a}g^{a} = 1 $$\n",
    "\n",
    "because g^0 is 1, and `a - a = 0`."
   ]
  },
  {
   "cell_type": "code",
   "execution_count": 23,
   "id": "dde06b67",
   "metadata": {},
   "outputs": [
    {
     "data": {
      "text/plain": [
       "True"
      ]
     },
     "execution_count": 23,
     "metadata": {},
     "output_type": "execute_result"
    }
   ],
   "source": [
    "a = 22\n",
    "pow(g, a, n) * pow(g, -a, n) % n == 1"
   ]
  },
  {
   "cell_type": "markdown",
   "id": "eba6db1a",
   "metadata": {},
   "source": [
    "So what magic is happening behind the scenes? The formula below is used to compute the modular inverse.\n",
    "\n",
    "$$ a^{-1} = a^{n - 2} \\pmod n $$"
   ]
  },
  {
   "cell_type": "code",
   "execution_count": 24,
   "id": "2ea5a6ba",
   "metadata": {},
   "outputs": [
    {
     "data": {
      "text/plain": [
       "True"
      ]
     },
     "execution_count": 24,
     "metadata": {},
     "output_type": "execute_result"
    }
   ],
   "source": [
    "a_inv = a ** (n - 2) % n\n",
    "a_inv * a % n == 1"
   ]
  },
  {
   "cell_type": "markdown",
   "id": "deadcf09",
   "metadata": {},
   "source": [
    "## Multiplication by a constant\n",
    "Multiplication by a constant is really just repeated addition\n",
    "\n",
    "$$ (g^{a})^{4} = g^{a} g^{a} g^{a} g^{a} $$\n",
    "\n",
    "This allows us to \"multiply by a constant\" in a zero knowledge fashion."
   ]
  },
  {
   "cell_type": "code",
   "execution_count": 25,
   "id": "21390185",
   "metadata": {},
   "outputs": [
    {
     "data": {
      "text/plain": [
       "True"
      ]
     },
     "execution_count": 25,
     "metadata": {},
     "output_type": "execute_result"
    }
   ],
   "source": [
    "a = 15\n",
    "pow(g, a, n) * pow(g, a, n) * pow(g, a, n) * pow(g, a, n) % n == pow(g, a * 4, n)"
   ]
  },
  {
   "cell_type": "markdown",
   "id": "d8854703",
   "metadata": {},
   "source": [
    "Of course, it would be annoying to multiply like that if you have a big coefficient, so the following is better"
   ]
  },
  {
   "cell_type": "code",
   "execution_count": 26,
   "id": "9704397d",
   "metadata": {},
   "outputs": [
    {
     "data": {
      "text/plain": [
       "True"
      ]
     },
     "execution_count": 26,
     "metadata": {},
     "output_type": "execute_result"
    }
   ],
   "source": [
    "pow(pow(g, a, n), 4 , n) == pow(g, a * 4, n)"
   ]
  },
  {
   "cell_type": "markdown",
   "id": "37dd20e6",
   "metadata": {},
   "source": [
    "## I know the solution to a systems of equations\n",
    "\n",
    "Now you should be able to prove to me that you know the solution to in a zero knowledge fashion\n",
    "\n",
    "$$\n",
    "2x + 8y = 7944\\\\\n",
    "5x + 3y = 4764\n",
    "$$\n",
    "\n",
    "<font color='red'>**Assignment 4: conver the above equation to a zk proof system where you can prove to a verifier (with an agreed upon g and n) that you know the solution to an agreed upon system of equation, without revealing the solution**</font>"
   ]
  },
  {
   "cell_type": "code",
   "execution_count": 12,
   "id": "561d668d",
   "metadata": {},
   "outputs": [
    {
     "name": "stdout",
     "output_type": "stream",
     "text": [
      "is 10007 prime? True\n",
      "generator is 5\n",
      "x 420\n",
      "y 888\n"
     ]
    }
   ],
   "source": [
    "import sympy\n",
    "\n",
    "p = 10007\n",
    "print('is', p, 'prime?', sympy.isprime(p))\n",
    "\n",
    "g = sympy.primitive_root(p)\n",
    "print('generator is', g)\n",
    "assert g == 5 # i'm not sure if primitive_root() is deterministic\n",
    "\n",
    "gx = 8134 # g^x, x is secret\n",
    "gy = 9325 # g^y, y is secret\n",
    "\n",
    "# we want: gx^2 * gy^8 == g^7944\n",
    "assert (pow(gx, 2, p) * pow(gy, 8, p) - pow(g, 7944, p)) % p == 0\n",
    "# we want: gx^5 * gy^3 == g^4764\n",
    "assert (pow(gx, 5, p) * pow(gy, 3, p) - pow(g, 4764, p)) % p == 0\n",
    "\n",
    "# below is not really homework, just playing around\n",
    "print('x', sympy.ntheory.discrete_log(p, gx, g))\n",
    "print('y', sympy.ntheory.discrete_log(p, gy, g))"
   ]
  },
  {
   "cell_type": "code",
   "execution_count": 25,
   "id": "fe9fb11e",
   "metadata": {},
   "outputs": [
    {
     "name": "stdout",
     "output_type": "stream",
     "text": [
      "is 100000000000000000039 prime? True\n",
      "generator is 3\n",
      "gx 75691350556124262060 gy 88489376898100166924\n",
      "x 420\n",
      "y 888\n",
      "calculating two discrete logs took 33.79 seconds\n"
     ]
    }
   ],
   "source": [
    "p = sympy.nextprime(10**20)\n",
    "print('is', p, 'prime?', sympy.isprime(p))\n",
    "\n",
    "g = sympy.primitive_root(p)\n",
    "print('generator is', g)\n",
    "\n",
    "gx = pow(g, 420, p)\n",
    "gy = pow(g, 888, p)\n",
    "print('gx', gx, 'gy', gy)\n",
    "\n",
    "# we want: gx^2 * gy^8 == g^7944\n",
    "assert (pow(gx, 2, p) * pow(gy, 8, p) - pow(g, 7944, p)) % p == 0\n",
    "# we want: gx^5 * gy^3 == g^4764\n",
    "assert (pow(gx, 5, p) * pow(gy, 3, p) - pow(g, 4764, p)) % p == 0\n",
    "\n",
    "# below is not really homework, just playing around\n",
    "s = time.time()\n",
    "print('x', sympy.ntheory.discrete_log(p, gx, g))\n",
    "print('y', sympy.ntheory.discrete_log(p, gy, g))\n",
    "t = time.time()\n",
    "print(\"calculating two discrete logs took {:.2f} seconds\".format(t - s))"
   ]
  },
  {
   "cell_type": "markdown",
   "id": "0c7a9d38",
   "metadata": {},
   "source": [
    "## Convert a rational number to a finite field element\n",
    "\n",
    "<font color='red'>**Assignment 5: Compute 53/192 + 61/511 (mod 1033) in python. Show your work. You are not required to implement euclid's algorithm. Show it is equal to the original rational number sum: https://www.wolframalpha.com/input?i=53%2F192+%2B+61%2F511**</font>"
   ]
  },
  {
   "cell_type": "code",
   "execution_count": 28,
   "id": "b9567643",
   "metadata": {},
   "outputs": [
    {
     "name": "stdout",
     "output_type": "stream",
     "text": [
      "514\n",
      "0\n"
     ]
    }
   ],
   "source": [
    "N = 1033\n",
    "\n",
    "sum = (53 * pow(192, -1, N) + 61 * pow(511, -1, N)) % N\n",
    "print(sum)\n",
    "# sum == 38795 / 98112\n",
    "print((sum * 98112 - 38795) % N)"
   ]
  }
 ],
 "metadata": {
  "kernelspec": {
   "display_name": "Python 3 (ipykernel)",
   "language": "python",
   "name": "python3"
  },
  "language_info": {
   "codemirror_mode": {
    "name": "ipython",
    "version": 3
   },
   "file_extension": ".py",
   "mimetype": "text/x-python",
   "name": "python",
   "nbconvert_exporter": "python",
   "pygments_lexer": "ipython3",
   "version": "3.10.14"
  }
 },
 "nbformat": 4,
 "nbformat_minor": 5
}
