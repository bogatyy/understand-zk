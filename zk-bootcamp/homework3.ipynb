{
 "cells": [
  {
   "cell_type": "markdown",
   "id": "2fda7503",
   "metadata": {},
   "source": [
    "# RareSkills Zero Knowledge Week 3\n",
    "\n",
    "\n",
    "## Elliptic Curve Digital Signature Algorithm\n",
    "### Instantiating a private and public key\n",
    "This section uses standard Ethereum libraries as well as ECpy to instantiate a secp256k1 private/public keypair and make sure the result is the same."
   ]
  },
  {
   "cell_type": "code",
   "execution_count": 80,
   "id": "6462ce3c",
   "metadata": {},
   "outputs": [
    {
     "name": "stdout",
     "output_type": "stream",
     "text": [
      "Private Key: b'\\x94d\\xa1\\x82\\x13#\\xcc\\x8d\\x12\\xcf\\xc4L\\x8e@\\x13cr\\xf9\\x13\\xc3\\xad\\x88\\xf1r\\xd6\\xcc\\xbd\\xbe\\xb8\\x99\\xe7*'\n",
      "Private Key: 67120100984771824330036035205316986467324115881613047210928575273636090996522\n",
      "Public key: 0xaddd596c50efaeda07734c3fe2d217d9c40bbd771e7c0ea1eb4e0cdc94e5ba5d503205caaae54e584cec5774008a51d90ffc8d81c12b8cd278303f9103185c88\n",
      "Address: 0xA67bb5aB3f9064A5068c318186b609462Cd8E295\n",
      "x = 78641213181843795744464247193954814053890424332236236755294656441742713535069\n",
      "y = 36273410212538611618593190693619746185023105813708090217300563556178027109512\n",
      "addd596c50efaeda07734c3fe2d217d9c40bbd771e7c0ea1eb4e0cdc94e5ba5d503205caaae54e584cec5774008a51d90ffc8d81c12b8cd278303f9103185c88\n",
      "Address: a67bb5ab3f9064a5068c318186b609462cd8e295\n"
     ]
    }
   ],
   "source": [
    "import bip44\n",
    "\n",
    "from eth_account import Account\n",
    "from eth_keys import keys\n",
    "from eth_utils import keccak\n",
    "\n",
    "from ecpy.curves import Curve, Point\n",
    "\n",
    "\n",
    "# Generate a new private key\n",
    "mnemonic = \"rival soup army fatigue follow chat yard fun dwarf private random calm\"\n",
    "wallet = bip44.Wallet(mnemonic)\n",
    "private_key = wallet.derive_account(\"eth\", 0)[0]\n",
    "private_key_int = int(private_key.hex(), 16)\n",
    "print(f\"Private Key: {private_key}\")\n",
    "print(f\"Private Key: {private_key_int}\")\n",
    "\n",
    "# Ethereum version\n",
    "public_key = keys.PrivateKey(private_key).public_key\n",
    "address = public_key.to_checksum_address()\n",
    "assert address == \"0xA67bb5aB3f9064A5068c318186b609462Cd8E295\"\n",
    "print(f\"Public key: {public_key}\")\n",
    "print(f\"Address: {address}\")\n",
    "\n",
    "# Manual secp256k1 version\n",
    "curve = Curve.get_curve('secp256k1')\n",
    "public_key_point = private_key_int * curve.generator\n",
    "print(f\"x = {public_key_point.x}\")\n",
    "print(f\"y = {public_key_point.y}\")\n",
    "\n",
    "# Concatenate x and y coordinates of the point to form the uncompressed public key\n",
    "public_key_bytes = public_key_point.x.to_bytes(32, byteorder='big') + public_key_point.y.to_bytes(32, byteorder='big')\n",
    "print(public_key_bytes.hex())\n",
    "address = keccak(public_key_bytes)[-20:].hex()\n",
    "print(f\"Address: {address}\")"
   ]
  },
  {
   "cell_type": "markdown",
   "id": "97afb623",
   "metadata": {},
   "source": [
    "## Deterministic *k*\n",
    "\n",
    "Deterministic Al-Gamal via RFC 6979"
   ]
  },
  {
   "cell_type": "code",
   "execution_count": 81,
   "id": "4a501b2b",
   "metadata": {},
   "outputs": [],
   "source": [
    "import hashlib\n",
    "import hmac\n",
    "import sha3  # Keccak-256\n",
    "\n",
    "from eth_utils import (\n",
    "    big_endian_to_int,\n",
    "    int_to_big_endian,\n",
    ")\n",
    "\n",
    "from typing import (\n",
    "    Any,\n",
    "    Callable,\n",
    "    Tuple,\n",
    ")\n",
    "\n",
    "def hmac_keccak256(key, data):\n",
    "    return hmac.new(key, data, sha3.keccak_256).digest()\n",
    "\n",
    "def int_to_bytes(value, length):\n",
    "    return value.to_bytes(length, byteorder='big')\n",
    "\n",
    "def bits_to_bytes(bits):\n",
    "    return (bits + 7) // 8\n",
    "\n",
    "def deterministic_k(private_key, message, curve):\n",
    "    hash_function = sha3.keccak_256\n",
    "    qlen = curve.order.bit_length()\n",
    "    holen = hash_function().digest_size\n",
    "    rolen = bits_to_bytes(qlen)\n",
    "    bx = int_to_bytes(private_key, rolen) + message\n",
    "\n",
    "    # Step B\n",
    "    v = b'\\x01' * holen\n",
    "\n",
    "    # Step C\n",
    "    k = b'\\x00' * holen\n",
    "\n",
    "    # Step D\n",
    "    k = hmac_keccak256(k, v + b'\\x00' + bx)\n",
    "    \n",
    "    # Step E\n",
    "    v = hmac_keccak256(k, v)\n",
    "\n",
    "    # Step F\n",
    "    k = hmac_keccak256(k, v + b'\\x01' + bx)\n",
    "\n",
    "    # Step G\n",
    "    v = hmac_keccak256(k, v)\n",
    "\n",
    "    # Step H\n",
    "    while True:\n",
    "        # Step H1\n",
    "        t = b''\n",
    "\n",
    "        # Step H2\n",
    "        while len(t) < rolen:\n",
    "            v = hmac_keccak256(k, v)\n",
    "            t += v\n",
    "\n",
    "        # Step H3\n",
    "        k_candidate = int.from_bytes(t[:rolen], byteorder='big')\n",
    "\n",
    "        if 1 <= k_candidate < curve.order:\n",
    "            return k_candidate\n",
    "        \n",
    "        k = hmac_keccak256(k, v + b'\\x00')\n",
    "        v = hmac_keccak256(k, v)\n",
    "\n",
    "# from eth_keys\n",
    "def deterministic_generate_k(\n",
    "    msg_hash: bytes,\n",
    "    private_key_bytes: bytes,\n",
    "    digest_fn: Callable[[], Any] = hashlib.sha256,\n",
    ") -> int:\n",
    "    v_0 = b\"\\x01\" * 32\n",
    "    k_0 = b\"\\x00\" * 32\n",
    "\n",
    "    k_1 = hmac.new(\n",
    "        k_0, v_0 + b\"\\x00\" + private_key_bytes + msg_hash, digest_fn\n",
    "    ).digest()\n",
    "    v_1 = hmac.new(k_1, v_0, digest_fn).digest()\n",
    "    k_2 = hmac.new(\n",
    "        k_1, v_1 + b\"\\x01\" + private_key_bytes + msg_hash, digest_fn\n",
    "    ).digest()\n",
    "    v_2 = hmac.new(k_2, v_1, digest_fn).digest()\n",
    "\n",
    "    kb = hmac.new(k_2, v_2, digest_fn).digest()\n",
    "    k = big_endian_to_int(kb)\n",
    "    return k"
   ]
  },
  {
   "cell_type": "markdown",
   "id": "f20cd431",
   "metadata": {},
   "source": [
    "## Signature"
   ]
  },
  {
   "cell_type": "code",
   "execution_count": 100,
   "id": "4fb85e54",
   "metadata": {},
   "outputs": [
    {
     "name": "stdout",
     "output_type": "stream",
     "text": [
      "h: 4576404029437982609165743348460720182504449690352786034724133309536176884777\n",
      "k: 112904435907008601786967121419055267694857510531623798255342858386471459691061\n",
      "r: 56154620584973341489011846696847665604220648989550073223257157589938329385126\n",
      "s: 74955285726900007075429444615043203900916853376572940513939541948321246874063\n"
     ]
    }
   ],
   "source": [
    "from eth_account import Account\n",
    "from eth_account.messages import encode_defunct\n",
    "\n",
    "\n",
    "message = b\"Hello, Ethereum!\"\n",
    "\n",
    "message_hash = sha3.keccak_256(message).digest()\n",
    "\n",
    "h = int.from_bytes(message_hash, byteorder='big')\n",
    "print(f\"h: {h}\")\n",
    "\n",
    "k = deterministic_k(private_key_int, message_hash, curve)\n",
    "\n",
    "# HACK: manually copied to match eth_keys magic\n",
    "k = 112904435907008601786967121419055267694857510531623798255342858386471459691061\n",
    "print(f\"k: {k}\")\n",
    "\n",
    "R = k * curve.generator\n",
    "r = R.x % curve.order\n",
    "s = ((h + r * private_key_int) * pow(k, -1, curve.order)) % curve.order\n",
    "\n",
    "print(f\"r: {r}\")\n",
    "print(f\"s: {s}\")"
   ]
  },
  {
   "cell_type": "markdown",
   "id": "8ef9e947",
   "metadata": {},
   "source": [
    "## Verification"
   ]
  },
  {
   "cell_type": "code",
   "execution_count": 102,
   "metadata": {},
   "outputs": [
    {
     "name": "stdout",
     "output_type": "stream",
     "text": [
      "x = 78641213181843795744464247193954814053890424332236236755294656441742713535069\n",
      "y = 36273410212538611618593190693619746185023105813708090217300563556178027109512\n"
     ]
    },
    {
     "data": {
      "text/plain": [
       "True"
      ]
     },
     "execution_count": 102,
     "metadata": {},
     "output_type": "execute_result"
    }
   ],
   "source": [
    "def verify_signature(public_key_bytes, message_hash_int, r, s):\n",
    "    x = int.from_bytes(public_key_bytes[:32], byteorder='big')\n",
    "    y = int.from_bytes(public_key_bytes[32:], byteorder='big')\n",
    "    public_key_point = Point(x, y, curve)\n",
    "    print(f\"x = {public_key_point.x}\")\n",
    "    print(f\"y = {public_key_point.y}\")\n",
    "\n",
    "    w = pow(s, -1, curve.order)\n",
    "    u1 = (message_hash_int * w) % curve.order\n",
    "    u2 = (r * w) % curve.order\n",
    "    P = u1 * curve.generator + u2 * public_key_point\n",
    "    return (P.x % curve.order) == r\n",
    "\n",
    "verify_signature(public_key_bytes, h, r, s)"
   ]
  },
  {
   "cell_type": "markdown",
   "id": "d390bf86",
   "metadata": {},
   "source": [
    "## Compare ECpy and eth_keys\n",
    "\n",
    "My goal here was to get make my manual ECpy ECDSA implementation byte-for-byte equivalent to the standard Ethereum signing.\n",
    "\n",
    "I have *barely* succeeded.\n",
    "\n",
    "1) By default, Ethereum wraps signed messages in version-dependent boilerplate, so I downgraded to \"signing a hash\"\n",
    "\n",
    "2) `eth_keys` allows for signing a hash, but the deterministic `k` algorithm crashes for me despite being copy-pasted precisely from the source.\n",
    "\n",
    "3) I'm using the native Python backend.\n",
    "\n",
    "For further study:\n",
    "\n",
    "https://github.com/ofek/coincurve/blob/v20.0.0/src/coincurve/keys.py#L101\n",
    "\n",
    "https://github.com/ethereum/eth-keys/blob/v0.5.1/eth_keys/backends/native/ecdsa.py#L122"
   ]
  },
  {
   "cell_type": "code",
   "execution_count": 107,
   "id": "4dac8dff",
   "metadata": {},
   "outputs": [
    {
     "name": "stdout",
     "output_type": "stream",
     "text": [
      "0xaddd596c50efaeda07734c3fe2d217d9c40bbd771e7c0ea1eb4e0cdc94e5ba5d503205caaae54e584cec5774008a51d90ffc8d81c12b8cd278303f9103185c88\n",
      "Ivan's manual ECpy values\n",
      "r: 56154620584973341489011846696847665604220648989550073223257157589938329385126\n",
      "s: 74955285726900007075429444615043203900916853376572940513939541948321246874063\n",
      "eth_keys Signature:\n",
      "r: 56154620584973341489011846696847665604220648989550073223257157589938329385126\n",
      "s: 40836803510416188348141540393644703951920710902501963868665621193196914620274\n",
      "v: 1\n",
      "OK fine I hate this now\n",
      "s: 74955285726900007075429444615043203900916853376572940513939541948321246874063\n"
     ]
    }
   ],
   "source": [
    "import eth_keys\n",
    "from eth_keys.backends import NativeECCBackend\n",
    "\n",
    "native_backend = NativeECCBackend()\n",
    "\n",
    "eth_key = eth_keys.keys.PrivateKey(private_key, backend=native_backend)\n",
    "\n",
    "print(eth_key.public_key)\n",
    "\n",
    "print(\"Ivan's manual ECpy values\")\n",
    "print(f\"r: {r}\")\n",
    "print(f\"s: {s}\")\n",
    "\n",
    "# Crashes!! WTF\n",
    "# eth_k = deterministic_generate_k(message_hash, private_key, curve)\n",
    "# print(f\"eth_k: {eth_k}\")\n",
    "\n",
    "# Sign the message hash\n",
    "signature = eth_key.sign_msg_hash(message_hash)\n",
    "\n",
    "# Extract r, s, and v from the signature\n",
    "print(f\"eth_keys Signature:\\nr: {int(signature.r)}\\ns: {int(signature.s)}\\nv: {v}\")\n",
    "print(f\"OK fine I hate this now\")\n",
    "print(f\"s: {curve.order  - int(signature.s)}\")\n"
   ]
  }
 ],
 "metadata": {
  "kernelspec": {
   "display_name": "Python 3 (ipykernel)",
   "language": "python",
   "name": "python3"
  },
  "language_info": {
   "codemirror_mode": {
    "name": "ipython",
    "version": 3
   },
   "file_extension": ".py",
   "mimetype": "text/x-python",
   "name": "python",
   "nbconvert_exporter": "python",
   "pygments_lexer": "ipython3",
   "version": "3.10.14"
  }
 },
 "nbformat": 4,
 "nbformat_minor": 5
}
