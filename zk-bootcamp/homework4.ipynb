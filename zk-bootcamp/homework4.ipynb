{
 "cells": [
  {
   "cell_type": "markdown",
   "metadata": {},
   "source": [
    "# RareSkills Homework 4\n",
    "\n",
    "## `py_ecc` curve operations"
   ]
  },
  {
   "cell_type": "code",
   "execution_count": 8,
   "metadata": {},
   "outputs": [
    {
     "name": "stdout",
     "output_type": "stream",
     "text": [
      "G1 (1368015179489954701390400359078579693043519447331113978918064868415326638035, 9918110051302171585080402603319702774565515993150576347155970296011118125764)\n"
     ]
    }
   ],
   "source": [
    "from py_ecc.bn128 import G1, multiply, add, curve_order\n",
    "\n",
    "print(\"G1\", multiply(G1, 2))"
   ]
  },
  {
   "cell_type": "markdown",
   "metadata": {},
   "source": [
    "### Rational fraction\n",
    "From homework 2,\n",
    "\n",
    "`53/192 + 61/511 == 38795 / 98112`"
   ]
  },
  {
   "cell_type": "code",
   "execution_count": 15,
   "metadata": {},
   "outputs": [
    {
     "name": "stdout",
     "output_type": "stream",
     "text": [
      "A (4746413956640574926461252727128477233913017861890454231694527599705621810724, 16193881401749671088058241155929092985630179886603826254428773505483197550341)\n",
      "B (4020592843113960083816750342797518259360106472240517742667778613682997480506, 15366454237806459103088794614571810333284577576279935076483492865971729267978)\n",
      "True\n",
      "False\n"
     ]
    }
   ],
   "source": [
    "fraction1 = 53 * pow(192, -1, curve_order) % curve_order\n",
    "fraction2 = 61 * pow(511, -1, curve_order) % curve_order\n",
    "num = 38795\n",
    "den = 98112\n",
    "\n",
    "A = multiply(G1, fraction1)\n",
    "B = multiply(G1, fraction2)\n",
    "print(\"A\", A)\n",
    "print(\"B\", B)\n",
    "\n",
    "print(multiply(add(A, B), den) == multiply(G1, num))\n",
    "print(multiply(add(A, B), den) == multiply(G1, num + 1))"
   ]
  }
 ],
 "metadata": {
  "kernelspec": {
   "display_name": "Python 3",
   "language": "python",
   "name": "python3"
  },
  "language_info": {
   "codemirror_mode": {
    "name": "ipython",
    "version": 3
   },
   "file_extension": ".py",
   "mimetype": "text/x-python",
   "name": "python",
   "nbconvert_exporter": "python",
   "pygments_lexer": "ipython3",
   "version": "3.10.14"
  }
 },
 "nbformat": 4,
 "nbformat_minor": 2
}
